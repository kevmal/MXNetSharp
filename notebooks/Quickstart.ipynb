{
 "cells": [
  {
   "cell_type": "code",
   "execution_count": 1,
   "metadata": {},
   "outputs": [],
   "source": [
    "#r \"../MXNetSharp.dll\""
   ]
  },
  {
   "cell_type": "code",
   "execution_count": 2,
   "metadata": {},
   "outputs": [],
   "source": [
    "open MXNetSharp"
   ]
  },
  {
   "cell_type": "markdown",
   "metadata": {},
   "source": [
    "# Symbol API"
   ]
  },
  {
   "cell_type": "code",
   "execution_count": 3,
   "metadata": {},
   "outputs": [],
   "source": [
    "let x = Variable \"x\" // Symbol\n",
    "let y = Variable \"y\" // Symbol\n",
    "\n",
    "// elementwise multiplication\n",
    "let z = x * y //x and y will be infered to have the same shape\n",
    "\n",
    "// broadcast multiplication\n",
    "let z2 = x .* y // x and y shapes can differ according to the rules of MXNet broadcasting\n",
    "\n",
    "// scalar multiplication, overloads are for type `double` but will match type of x\n",
    "let z3 = 4.0*x\n",
    "\n",
    "// broadcast operators for +, -, /, and such are analogous to above\n",
    "// comparison operators at the moment are by default prefixed with a `.` and have no broadcast equivalents\n",
    "let z4 = x .= y // elementwise\n",
    "\n",
    "// logical operators do have broadcast equivalents\n",
    "let z5 = x .&& y // elementwise\n",
    "let z6 = x ..&& y // broadcast\n",
    "\n",
    "// For operators sqrt, exp, pow and such we need to open MXNetSharp.PrimitiveOperators\n",
    "open MXNetSharp.PrimitiveOperators\n",
    "let z7 = exp x"
   ]
  },
  {
   "cell_type": "markdown",
   "metadata": {},
   "source": [
    "# NDArray"
   ]
  },
  {
   "cell_type": "code",
   "execution_count": 8,
   "metadata": {},
   "outputs": [],
   "source": [
    "// Create an NDArray from a .NET array\n",
    "let a = NDArray.CopyFrom([|1.f .. 10.f|], [5;2], CPU 0)\n",
    "\n",
    "// This is the same as above\n",
    "let a2 = CPU(0).CopyFrom([|1.f .. 10.f|], [5;2])  "
   ]
  },
  {
   "cell_type": "code",
   "execution_count": 9,
   "metadata": {},
   "outputs": [
    {
     "data": {
      "text/html": [
       "<table><thead><tr><th><i>index</i></th><th>value</th></tr></thead><tbody><tr><td>0</td><td>4.582576</td></tr><tr><td>1</td><td>4.690416</td></tr><tr><td>2</td><td>4.7958317</td></tr><tr><td>3</td><td>4.8989797</td></tr><tr><td>4</td><td>5</td></tr><tr><td>5</td><td>5.0990195</td></tr><tr><td>6</td><td>5.196152</td></tr><tr><td>7</td><td>5.2915025</td></tr><tr><td>8</td><td>5.3851647</td></tr><tr><td>9</td><td>5.477226</td></tr></tbody></table>"
      ]
     },
     "execution_count": 9,
     "metadata": {},
     "output_type": "execute_result"
    }
   ],
   "source": [
    "// NDArray's do not need the MXNetSharp.PrimitiveOperators namespace\n",
    "let b = sqrt(a + 20.0)\n",
    "\n",
    "let v : float32 [] = b.ToArray<_>() //Copy back to CPU in managed array\n",
    "let v2 = b.ToFloat32Array() //Same as above\n",
    "let v3 = b.ToDoubleArray() // Float32 -> Double conversion happens implicitly\n",
    "v"
   ]
  },
  {
   "cell_type": "code",
   "execution_count": 10,
   "metadata": {},
   "outputs": [
    {
     "data": {
      "text/plain": [
       "5.0416865"
      ]
     },
     "execution_count": 10,
     "metadata": {},
     "output_type": "execute_result"
    }
   ],
   "source": [
    "// NDArray Operators exist in MXNEtSharp.MX\n",
    "MX.Mean(b).ToFloat32Scalar()"
   ]
  },
  {
   "cell_type": "markdown",
   "metadata": {},
   "source": [
    "## Slicing"
   ]
  },
  {
   "cell_type": "code",
   "execution_count": 11,
   "metadata": {},
   "outputs": [
    {
     "data": {
      "text/html": [
       "<table><thead><tr><th><i>index</i></th><th>value</th></tr></thead><tbody><tr><td>0</td><td>5</td></tr><tr><td>1</td><td>5.0990195</td></tr><tr><td>2</td><td>5.196152</td></tr><tr><td>3</td><td>5.2915025</td></tr><tr><td>4</td><td>5.3851647</td></tr><tr><td>5</td><td>5.477226</td></tr></tbody></table>"
      ]
     },
     "execution_count": 11,
     "metadata": {},
     "output_type": "execute_result"
    }
   ],
   "source": [
    "// following are equivalent\n",
    "b.[2..4,*].ToFloat32Array()\n",
    "b.[2..4].ToFloat32Array()"
   ]
  },
  {
   "cell_type": "code",
   "execution_count": 12,
   "metadata": {},
   "outputs": [
    {
     "data": {
      "text/html": [
       "<table><thead><tr><th><i>index</i></th><th>value</th></tr></thead><tbody><tr><td>0</td><td>5</td></tr><tr><td>1</td><td>5.0990195</td></tr></tbody></table>"
      ]
     },
     "execution_count": 12,
     "metadata": {},
     "output_type": "execute_result"
    }
   ],
   "source": [
    "// Note that the range is startIndex..endIndex (F# style) as oppose to MXnet slcing where slice stops just up to the end\n",
    "b.[2..2,*].ToFloat32Array()"
   ]
  },
  {
   "cell_type": "code",
   "execution_count": 13,
   "metadata": {},
   "outputs": [
    {
     "data": {
      "text/html": [
       "<table><thead><tr><th><i>index</i></th><th>value</th></tr></thead><tbody><tr><td>0</td><td>5.0990195</td></tr></tbody></table>"
      ]
     },
     "execution_count": 13,
     "metadata": {},
     "output_type": "execute_result"
    }
   ],
   "source": [
    "// With negative slicing then 'end' value behaves the same as MXNet. startIndex .. -dropCount\n",
    "b.[2..-2,1].ToFloat32Array()"
   ]
  },
  {
   "cell_type": "code",
   "execution_count": 14,
   "metadata": {},
   "outputs": [
    {
     "data": {
      "text/html": [
       "<table><thead><tr><th><i>index</i></th><th>value</th></tr></thead><tbody><tr><td>0</td><td>4.582576</td></tr><tr><td>1</td><td>4.690416</td></tr><tr><td>2</td><td>5</td></tr><tr><td>3</td><td>5.0990195</td></tr><tr><td>4</td><td>5.3851647</td></tr><tr><td>5</td><td>5.477226</td></tr></tbody></table>"
      ]
     },
     "execution_count": 14,
     "metadata": {},
     "output_type": "execute_result"
    }
   ],
   "source": [
    "// Steping syntax is more verbose (the following are all equivalent)\n",
    "b.[SliceRange(0L, 4L, 2L), *].ToFloat32Array()\n",
    "b.[SliceRange(stop = 4L, step = 2L), *].ToFloat32Array()\n",
    "b.[SliceRange(start = 0L, step = 2L), *].ToFloat32Array()\n",
    "b.[SliceRange(step = 2L), *].ToFloat32Array()"
   ]
  },
  {
   "cell_type": "code",
   "execution_count": null,
   "metadata": {},
   "outputs": [],
   "source": []
  }
 ],
 "metadata": {
  "kernelspec": {
   "display_name": ".NET (F#)",
   "language": "F#",
   "name": ".net-fsharp"
  },
  "language_info": {
   "file_extension": ".fs",
   "mimetype": "text/x-fsharp",
   "name": "C#",
   "pygments_lexer": "fsharp",
   "version": "4.5"
  }
 },
 "nbformat": 4,
 "nbformat_minor": 4
}
